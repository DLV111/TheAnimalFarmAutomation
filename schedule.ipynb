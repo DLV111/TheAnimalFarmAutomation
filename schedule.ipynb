{
 "cells": [
  {
   "cell_type": "code",
   "execution_count": 1,
   "metadata": {},
   "outputs": [
    {
     "name": "stdout",
     "output_type": "stream",
     "text": [
      "1656455803.2126098\n"
     ]
    }
   ],
   "source": [
    "from calendar import weekday\n",
    "from web3 import Web3\n",
    "import os\n",
    "import logging\n",
    "import sys\n",
    "import time\n",
    "import calendar\n",
    "from datetime import datetime, date, timedelta\n",
    "from pushover import Client\n",
    "from utils import eth2wei, prettyPrint, wei2eth, read_json_file, to_checksum, getLocalTime, addNewConfigOption, pancakeswap_api_get_price\n",
    "from utils import binance_api_get_price\n",
    "import traceback\n",
    "import argparse\n",
    "import configparser\n",
    "from threading import Thread\n",
    "\n",
    "\n",
    "aa = {'raw': [0, True, 12445503, 0, 1656126987, 1656126987, 32258789743, 7163607481, False, (1, 604800, 1652379698), (True, 541094840, 541094619, 7)], 'ID': 0, 'isStakeOn': True, 'hatcheryPiglets': 12445503, 'claimedTruffles': 0, 'lastFeeding': 1656126987, 'lastCompounded': 1656126987, 'trufflesUsed': 32258789743, 'trufflesSold': 7163607481, 'isMaxPayOut': False, 'nextFeeding': 1656213387, 'timeToNextFeeding': 85907, 'currentTruffles': 6123187}\n",
    "\n",
    "\n",
    "print (time.time())\n"
   ]
  },
  {
   "cell_type": "code",
   "execution_count": 6,
   "metadata": {},
   "outputs": [
    {
     "name": "stdout",
     "output_type": "stream",
     "text": [
      "time.struct_time(tm_year=2022, tm_mon=6, tm_mday=29, tm_hour=8, tm_min=10, tm_sec=57, tm_wday=2, tm_yday=180, tm_isdst=0)\n",
      "time.struct_time(tm_year=2022, tm_mon=6, tm_mday=28, tm_hour=12, tm_min=48, tm_sec=1, tm_wday=1, tm_yday=179, tm_isdst=0)\n"
     ]
    }
   ],
   "source": [
    "time.strftime(\"%a, %d %b %Y %H:%M:%S +0000\", time.localtime(time.time()))\n",
    "time.strftime(\"%a, %d %b %Y %H:%M:%S +0000\", time.localtime(1656386281))\n",
    "\n",
    "\n",
    "print(time.localtime(time.time()))\n",
    "print(time.localtime(1656386281))"
   ]
  },
  {
   "cell_type": "code",
   "execution_count": 10,
   "metadata": {},
   "outputs": [],
   "source": [
    "# prettyPrint(aa)\n",
    "\n",
    "# prettyPrint(config)\n",
    "\n",
    "\n",
    "def getNextFeedingTime(ID: int, last_action: int):\n",
    "    \"\"\"Returns in epoch time the next action\n",
    "\n",
    "    Args:\n",
    "        ID (int): Piggybank ID\n",
    "        last_action (int): epoch time of last action\n",
    "\n",
    "    Returns:\n",
    "        int: epochtime of next action\n",
    "    \"\"\"\n",
    "    days_to_add=0\n",
    "    curr_date = date.today()\n",
    "    if time.localtime(last_action) >= time.localtime(time.time()): # If we have already performed the action today, then we want to get tomorrow's action\n",
    "        curr_date = curr_date + timedelta(days=1)\n",
    "    day = str(calendar.day_name[curr_date.weekday()]).lower()\n",
    "    while True:\n",
    "        if config['piggybank_' + str(ID)][day]:\n",
    "            if config['piggybank_' + str(ID)][day] == \"skip\":\n",
    "                # Need to calculate if today's time has passed, then we don't want to add 1 day\n",
    "                days_to_add+=1\n",
    "                next_date_test = curr_date + timedelta(days=days_to_add)\n",
    "                day = str(calendar.day_name[next_date_test.weekday()]).lower()\n",
    "            else:\n",
    "                break\n",
    "        else:\n",
    "            break\n",
    "        if (days_to_add >= 8):\n",
    "            break\n",
    "    seconds_to_add = ((days_to_add*86400)+86400) # Days to add + 24 hours as we are getting at least 24 hours ahead\n",
    "    return (last_action+seconds_to_add)\n",
    "\n",
    "\n"
   ]
  },
  {
   "cell_type": "code",
   "execution_count": 23,
   "metadata": {},
   "outputs": [
    {
     "name": "stdout",
     "output_type": "stream",
     "text": [
      "2022-07-01 12:47:03\n",
      "now is > last action\n"
     ]
    }
   ],
   "source": [
    "config = {}\n",
    "config['piggybank_0'] = {\n",
    "    \"sunday\": \"compound\",\n",
    "    \"monday\": \"skip\",\n",
    "    \"tuesday\": \"claim\",\n",
    "    \"wednesday\": \"skip\",\n",
    "    \"thursday\": \"compound\",\n",
    "    \"friday\": \"skip\",\n",
    "    \"saturday\": \"skip\",\n",
    "}\n",
    "\n",
    "aa = getNextFeedingTime(0,1656559023)\n",
    "print(getLocalTime(aa))\n",
    "# print (getLocalTime(time.time() + aa))\n",
    "\n",
    "\n",
    "# print (time.gmtime())\n",
    "# print (time.localtime())\n",
    "# print (time.localtime(1656559023))\n",
    "\n",
    "if time.localtime() > time.localtime(1656559023):\n",
    "    print (\"now is > last action\")"
   ]
  }
 ],
 "metadata": {
  "interpreter": {
   "hash": "916dbcbb3f70747c44a77c7bcd40155683ae19c65e1c03b4aa3499c5328201f1"
  },
  "kernelspec": {
   "display_name": "Python 3.8.10 64-bit",
   "language": "python",
   "name": "python3"
  },
  "language_info": {
   "codemirror_mode": {
    "name": "ipython",
    "version": 3
   },
   "file_extension": ".py",
   "mimetype": "text/x-python",
   "name": "python",
   "nbconvert_exporter": "python",
   "pygments_lexer": "ipython3",
   "version": "3.8.10"
  },
  "orig_nbformat": 4
 },
 "nbformat": 4,
 "nbformat_minor": 2
}
