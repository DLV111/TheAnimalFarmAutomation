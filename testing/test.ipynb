{
 "cells": [
  {
   "cell_type": "code",
   "execution_count": 96,
   "metadata": {},
   "outputs": [
    {
     "name": "stdout",
     "output_type": "stream",
     "text": [
      "Given epoch time: 1652785798\n",
      "Converted datetime string: 2022 - 05 - 17  20 : 39 : 58\n",
      "Given epoch time: 1652846341\n",
      "Converted datetime string: 2022 - 05 - 18  13 : 29 : 01\n"
     ]
    }
   ],
   "source": [
    "import time\n",
    "from datetime import datetime, timedelta\n",
    "\n",
    "\n",
    "def print_time(epoch_time):\n",
    "    # using datetime.fromtimestamp() function to convert epoch time into datetime object\n",
    "    mytimestamp = datetime.fromtimestamp( epoch_time )\n",
    "    # using strftime() function to convert\n",
    "    datetime_str = mytimestamp.strftime( \"%Y - %m - %d  %H : %M : %S\")\n",
    "    # printing the values\n",
    "    print(\"Given epoch time:\", epoch_time)\n",
    "    print(\"Converted datetime string:\", datetime_str)\n",
    "\n",
    "# given epoch time\n",
    "epoch_time = int(time.time())\n",
    "\n",
    "\n",
    "\n",
    "print_time(epoch_time)\n",
    "\n",
    "print_time(1652759941+86400)\n",
    "\n",
    "\n",
    "\n"
   ]
  },
  {
   "cell_type": "code",
   "execution_count": 135,
   "metadata": {},
   "outputs": [
    {
     "name": "stdout",
     "output_type": "stream",
     "text": [
      "Update: 60157\n",
      "Update: 60156\n",
      "I will sleep for 60156\n"
     ]
    }
   ],
   "source": [
    "array = [[0, True, 4635383, 0, 1652759973, 1652759941, 12014920738, 0, False, (1, 604800, 1652379698), (False, 541094840, 133375005, 5)], [1, True, 4560174, 0, 1652759972, 1652759972, 11819979465, 0, False, (7, 4233600, 1652379698), (False, 2044205849, 10593482, 5)], [2, True, 4605510, 0, 1652759987, 1652759987, 11937490479, 0, False, (40, 24192000, 1652379698), (False, 172160281128, 126210699, 5)], [3, True, 4685841, 0, 1652766704, 1652766704, 12145705802, 0, False, (58, 35078400, 1652379698), (False, 590800754123, 294632334, 5)], [4, True, 4817362, 0, 1652766758, 1652766758, 12486607550, 0, False, (78, 47174400, 1652379698), (False, 1680696473671, 618328230, 5)], [5, True, 5142688, 0, 1652766938, 1652766938, 13329854032, 0, False, (103, 62294400, 1652379698), (False, 5121313534088, 1419115978, 5)], [6, True, 5418018, 0, 1652766944, 1652766944, 14043510676, 0, False, (127, 76809600, 1652379698), (False, 9371654598868, 2098313462, 5)], [7, True, 5679754, 0, 1652766950, 1652766950, 14721928600, 0, False, (151, 91324800, 1652379698), (False, 14630394883410, 2749051196, 5)]]\n",
    "pigs = {}\n",
    "\n",
    "import time\n",
    "from datetime import datetime, timedelta\n",
    "\n",
    "for ac in array:\n",
    "    nextFeeding = ac[4] + 86400\n",
    "    timeToNextFeeding = nextFeeding - int(time.time())\n",
    "    pigs.update({\n",
    "        ac[0]: {\n",
    "            \"raw\": ac,\n",
    "            \"ID\": ac[0],\n",
    "            \"isStakeOn\": ac[1],\n",
    "            \"hatcheryPiglets\": ac[2],\n",
    "            \"claimedTruffles\": ac[3],\n",
    "            \"lastFeeding\": ac[4],\n",
    "            \"lastCompounded\": ac[5],\n",
    "            \"trufflesUsed\": ac[6],\n",
    "            \"trufflesSold\": ac[7],\n",
    "            \"isMaxPayOut\": ac[8],\n",
    "            \"nextFeeding\": nextFeeding,\n",
    "            \"timeToNextFeeding\": timeToNextFeeding,\n",
    "        }\n",
    "    })\n",
    "\n",
    "pigsSleepTime = 86400\n",
    "\n",
    "for key,item in pigs.items():\n",
    "    # print (\"%s: %s\" % (key,item))\n",
    "    nextFeed = (pigs[key]['timeToNextFeeding'])\n",
    "    if nextFeed <=0:\n",
    "        print(\"Feed the pigs!\")\n",
    "    else:\n",
    "        if nextFeed < pigsSleepTime:\n",
    "            pigsSleepTime = nextFeed\n",
    "            print(\"Update: %s\" % pigsSleepTime)\n",
    "\n",
    "\n",
    "print (\"I will sleep for %s\" % pigsSleepTime)"
   ]
  },
  {
   "cell_type": "code",
   "execution_count": 39,
   "metadata": {},
   "outputs": [
    {
     "name": "stdout",
     "output_type": "stream",
     "text": [
      "now = 1652775271\n",
      "1652674801\n",
      "1652674801\n",
      "Time to compound!\n",
      "now: 2022-05-17 17:44:31\n",
      "lcp: 2022-05-16 13:50:01\n"
     ]
    }
   ],
   "source": [
    "from datetime import datetime, timedelta\n",
    "import time\n",
    "\n",
    "now = int(time.time())\n",
    "print(\"now = %s\" % now)\n",
    "\n",
    "aa = pigs[0]['lastCompounded'] + 1441\n",
    "print (aa)\n",
    "\n",
    "print (\"%s\" % aa)\n",
    "\n",
    "if now >= pigs[0]['lastCompounded']:\n",
    "    print (\"Time to compound!\")\n",
    "    print (\"now: %s\" % (time.strftime('%Y-%m-%d %H:%M:%S', time.localtime(now))))\n",
    "    print (\"lcp: %s\" % (time.strftime('%Y-%m-%d %H:%M:%S', time.localtime(aa))))\n",
    "else:\n",
    "    print (\"Don't Do anything\")\n",
    "    print (\"now: %s\" % (time.strftime('%Y-%m-%d %H:%M:%S', time.localtime(now))))\n",
    "    print (\"lcp: %s\" % (time.strftime('%Y-%m-%d %H:%M:%S', time.localtime(aa))))\n",
    "\n",
    "# for key,item in pigs[0].items():\n",
    "    # print (\"%s - %s\" % (key,item))\n",
    "    # print (\"%s\" % pigs[0]['lastCompounded'])"
   ]
  }
 ],
 "metadata": {
  "interpreter": {
   "hash": "916dbcbb3f70747c44a77c7bcd40155683ae19c65e1c03b4aa3499c5328201f1"
  },
  "kernelspec": {
   "display_name": "Python 3.8.10 64-bit",
   "language": "python",
   "name": "python3"
  },
  "language_info": {
   "codemirror_mode": {
    "name": "ipython",
    "version": 3
   },
   "file_extension": ".py",
   "mimetype": "text/x-python",
   "name": "python",
   "nbconvert_exporter": "python",
   "pygments_lexer": "ipython3",
   "version": "3.8.10"
  },
  "orig_nbformat": 4
 },
 "nbformat": 4,
 "nbformat_minor": 2
}
