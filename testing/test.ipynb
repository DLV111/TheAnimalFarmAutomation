{
 "cells": [
  {
   "cell_type": "code",
   "execution_count": 1,
   "metadata": {},
   "outputs": [
    {
     "name": "stdout",
     "output_type": "stream",
     "text": [
      "raw - [0, True, 4459964, 0, 1652673360, 1652673360, 11560232329, 0, False, (1, 604800, 1652379698), (False, 541094840, 64834739, 4)]\n",
      "ID - 0\n",
      "isStakeOn - True\n",
      "hatcheryPiglets - 4459964\n",
      "claimedTruffles - 0\n",
      "lastFeeding - 1652673360\n",
      "lastCompounded - 1652673360\n",
      "trufflesUsed - 11560232329\n",
      "trufflesSold - 0\n",
      "isMaxPayOut - False\n"
     ]
    }
   ],
   "source": [
    "array = [[0, True, 4459964, 0, 1652673360, 1652673360, 11560232329, 0, False, (1, 604800, 1652379698), (False, 541094840, 64834739, 4)], [1, True, 4411774, 0, 1652673363, 1652673363, 11435325896, 0, False, (7, 4233600, 1652379698), (False, 2044205849, 8039247, 4)], [2, True, 4446833, 0, 1652673369, 1652673369, 11526197985, 0, False, (40, 24192000, 1652379698), (False, 172160281128, 100093985, 4)], [3, True, 4511795, 0, 1652680085, 1652680085, 11694577875, 0, False, (58, 35078400, 1652379698), (False, 590800754123, 234311578, 4)], [4, True, 4614504, 0, 1652680091, 1652680091, 11960798167, 0, False, (78, 47174400, 1652379698), (False, 1680696473671, 492444065, 4)], [5, True, 4868535, 0, 1652680097, 1652680097, 12619247765, 0, False, (103, 62294400, 1652379698), (False, 5121313534088, 1131298158, 4)], [6, True, 5083892, 0, 1652680097, 1652680097, 13177453955, 0, False, (127, 76809600, 1652379698), (False, 9371654598868, 1673777509, 4)], [7, True, 5288630, 0, 1652680103, 1652680103, 13708134985, 0, False, (151, 91324800, 1652379698), (False, 14630394883410, 2194559230, 4)]]\n",
    "\n",
    "\n",
    "pigs = {}\n",
    "\n",
    "for ac in array:\n",
    "    #print(ac)\n",
    "    pigs.update({\n",
    "        ac[0]: {\n",
    "            \"raw\": ac,\n",
    "            \"ID\": ac[0],\n",
    "            \"isStakeOn\": ac[1],\n",
    "            \"hatcheryPiglets\": ac[2],\n",
    "            \"claimedTruffles\": ac[3],\n",
    "            \"lastFeeding\": ac[4],\n",
    "            \"lastCompounded\": ac[5],\n",
    "            \"trufflesUsed\": ac[6],\n",
    "            \"trufflesSold\": ac[7],\n",
    "            \"isMaxPayOut\": ac[8],\n",
    "        }\n",
    "    })\n",
    "\n",
    "for key,item in pigs[0].items():\n",
    "    print (\"%s - %s\" % (key,item))\n",
    "# print (pigs[0])"
   ]
  },
  {
   "cell_type": "code",
   "execution_count": 39,
   "metadata": {},
   "outputs": [
    {
     "name": "stdout",
     "output_type": "stream",
     "text": [
      "now = 1652775271\n",
      "1652674801\n",
      "1652674801\n",
      "Time to compound!\n",
      "now: 2022-05-17 17:44:31\n",
      "lcp: 2022-05-16 13:50:01\n"
     ]
    }
   ],
   "source": [
    "from datetime import datetime, timedelta\n",
    "import time\n",
    "\n",
    "now = int(time.time())\n",
    "print(\"now = %s\" % now)\n",
    "\n",
    "aa = pigs[0]['lastCompounded'] + 1441\n",
    "print (aa)\n",
    "\n",
    "print (\"%s\" % aa)\n",
    "\n",
    "if now >= pigs[0]['lastCompounded']:\n",
    "    print (\"Time to compound!\")\n",
    "    print (\"now: %s\" % (time.strftime('%Y-%m-%d %H:%M:%S', time.localtime(now))))\n",
    "    print (\"lcp: %s\" % (time.strftime('%Y-%m-%d %H:%M:%S', time.localtime(aa))))\n",
    "else:\n",
    "    print (\"Don't Do anything\")\n",
    "    print (\"now: %s\" % (time.strftime('%Y-%m-%d %H:%M:%S', time.localtime(now))))\n",
    "    print (\"lcp: %s\" % (time.strftime('%Y-%m-%d %H:%M:%S', time.localtime(aa))))\n",
    "\n",
    "# for key,item in pigs[0].items():\n",
    "    # print (\"%s - %s\" % (key,item))\n",
    "    # print (\"%s\" % pigs[0]['lastCompounded'])"
   ]
  }
 ],
 "metadata": {
  "interpreter": {
   "hash": "916dbcbb3f70747c44a77c7bcd40155683ae19c65e1c03b4aa3499c5328201f1"
  },
  "kernelspec": {
   "display_name": "Python 3.8.10 64-bit",
   "language": "python",
   "name": "python3"
  },
  "language_info": {
   "codemirror_mode": {
    "name": "ipython",
    "version": 3
   },
   "file_extension": ".py",
   "mimetype": "text/x-python",
   "name": "python",
   "nbconvert_exporter": "python",
   "pygments_lexer": "ipython3",
   "version": "3.8.10"
  },
  "orig_nbformat": 4
 },
 "nbformat": 4,
 "nbformat_minor": 2
}
